{
  "nbformat": 4,
  "nbformat_minor": 0,
  "metadata": {
    "colab": {
      "provenance": []
    },
    "kernelspec": {
      "name": "python3",
      "display_name": "Python 3"
    },
    "language_info": {
      "name": "python"
    }
  },
  "cells": [
    {
      "cell_type": "code",
      "source": [
        "from langchain.agents import Tool, AgentExecutor, LLMSingleActionAgent, AgentOutputParser\n",
        "from langchain.prompts import BaseChatPromptTemplate\n",
        "from langchain import SerpAPIWrapper, LLMChain\n",
        "from langchain.chat_models import ChatOpenAI\n",
        "from typing import List, Union\n",
        "from langchain.schema import AgentAction, AgentFinish, HumanMessage\n",
        "import re\n",
        "from getpass import getpass"
      ],
      "metadata": {
        "id": "caY9xuLdi3_s"
      },
      "execution_count": null,
      "outputs": []
    },
    {
      "cell_type": "code",
      "source": [
        "from langchain.llms import KoboldApiLLM\n",
        "llm = KoboldApiLLM(endpoint=\"https://networks-visibility-dates-neighbors.trycloudflare.com/\", max_length=80)"
      ],
      "metadata": {
        "id": "kRk5yB6czLSA"
      },
      "execution_count": null,
      "outputs": []
    },
    {
      "cell_type": "code",
      "source": [
        "llm(\"Question: What is Oklahoma?\\nAnswer:\")"
      ],
      "metadata": {
        "id": "097N0Di7bpmR",
        "colab": {
          "base_uri": "https://localhost:8080/",
          "height": 129
        },
        "outputId": "fc21813c-a7d2-4a7c-b77a-0fe13f10577a"
      },
      "execution_count": null,
      "outputs": [
        {
          "output_type": "stream",
          "name": "stdout",
          "text": [
            "Question: What is Oklahoma?\n",
            "Answer: Oklahoma is a state located in the south-central United States. It borders Texas to the south and west, Kansas to the north, Missouri to the northeast, Arkansas to the east, and New Mexico to the west. Its capital and largest city is Oklahoma City. The state's name comes from the Choctaw word \"okla,\" meaning \"people\" or \"individual,\" and \"humma,\" meaning \"red.\" Oklahoma is known for its diverse geography, which includes prairies, mountains, and forests, as well as its rich Native American history and culture.\n"
          ]
        },
        {
          "output_type": "execute_result",
          "data": {
            "text/plain": [
              "' Oklahoma is a state located in the south-central United States. It borders Texas to the south and west, Kansas to the north, Missouri to the northeast, Arkansas to the east, and New Mexico to the west. Its capital and largest city is Oklahoma City. The state\\'s name comes from the Choctaw word \"okla,\" meaning \"people\" or \"individual,\" and \"humma,\" meaning \"red.\" Oklahoma is known for its diverse geography, which includes prairies, mountains, and forests, as well as its rich Native American history and culture.'"
            ],
            "application/vnd.google.colaboratory.intrinsic+json": {
              "type": "string"
            }
          },
          "metadata": {},
          "execution_count": 15
        }
      ]
    },
    {
      "cell_type": "code",
      "source": [
        "search = DuckDuckGoSearchRun() # DuckDuckGo tool\n"
      ],
      "metadata": {
        "id": "TJvagrWai4Dq"
      },
      "execution_count": null,
      "outputs": []
    },
    {
      "cell_type": "code",
      "source": [
        "search(\"When was zelda tears of the kingdom released?\")"
      ],
      "metadata": {
        "id": "H3b1om9dlsf3",
        "colab": {
          "base_uri": "https://localhost:8080/",
          "height": 145
        },
        "outputId": "c0d76bb4-c5cc-4b8a-ff0c-24bd825894de"
      },
      "execution_count": null,
      "outputs": [
        {
          "output_type": "execute_result",
          "data": {
            "text/plain": [
              "\"The Legend of Zelda: Tears of the Kingdom is a 2023 action-adventure game developed and published by Nintendo for the Nintendo Switch. ... Tears of the Kingdom was initially planned for release in 2022 before being delayed to May 2023. It received acclaim for its improvements, expanded open world, and features encouraging exploration and ... The Legend of Zelda: Tears of the Kingdom is the twentieth main installment in The Legend of Zelda series. The game was released on May 12, 2023 on the Nintendo Switch. After an unknown period of time after the events of Breath of the Wild, Link and Zelda are exploring a secret passage hidden beneath Hyrule Castle. Although King Rhoam had warned Zelda in the past that not even the royal family ... Now, The Legend of Zelda: Tears of the Kingdom will release on the Nintendo Switch on May 12, 2022. This news was revealed during the latest Nintendo Direct event, which debuted a new name and ... The Legend of Zelda: Tears of the Kingdom is the 20th main game installment in the Zelda series (not counting side games and spin-offs) and it released on Mary 12 at 12:00 am midnight, US Eastern ... Nintendo confirmed to GameSpot that the game will launch on May 11 at 9 PM PT, which is May 12 at 12 AM ET. This falls in line with Nintendo's typical launches. A listing on Nintendo's website...\""
            ],
            "application/vnd.google.colaboratory.intrinsic+json": {
              "type": "string"
            }
          },
          "metadata": {},
          "execution_count": 18
        }
      ]
    },
    {
      "cell_type": "code",
      "source": [
        "Question = \"When was zelda tears of the kingdom released?\""
      ],
      "metadata": {
        "id": "GqqMFdQ1Sklp"
      },
      "execution_count": null,
      "outputs": []
    },
    {
      "cell_type": "code",
      "source": [
        "prompt_template = f\"\"\"Below is an instruction that describes a task, paired with an input that provides further context. Write a response that appropriately completes the request.\n",
        "\n",
        "### Instruction:\n",
        "{Question}\n",
        "\n",
        "### Input:\n",
        "{search(Question)}\n",
        "\n",
        "### Response:\n",
        "\"\"\""
      ],
      "metadata": {
        "id": "xctUbCpci7YD"
      },
      "execution_count": null,
      "outputs": []
    },
    {
      "cell_type": "code",
      "source": [
        "response = llm(prompt_template)"
      ],
      "metadata": {
        "colab": {
          "base_uri": "https://localhost:8080/"
        },
        "id": "_nV5tlA0R9F2",
        "outputId": "4d555c56-ac65-4130-bd56-b8ea982e0fdf"
      },
      "execution_count": null,
      "outputs": [
        {
          "output_type": "stream",
          "name": "stdout",
          "text": [
            "Below is an instruction that describes a task, paired with an input that provides further context. Write a response that appropriately completes the request.\n",
            "\n",
            "### Instruction:\n",
            "When was zelda tears of the kingdom released?\n",
            "\n",
            "### Input:\n",
            "The Legend of Zelda: Tears of the Kingdom is a 2023 action-adventure game developed and published by Nintendo for the Nintendo Switch.The sequel to The Legend of Zelda: Breath of the Wild (2017), Tears of the Kingdom retains aspects including the open world of Hyrule, which has been expanded to allow for more vertical exploration.The player controls Link as he searches for Princess Zelda and ... The Legend of Zelda: Tears of the Kingdom is the twentieth main installment in The Legend of Zelda series. The game was released on May 12, 2023 on the Nintendo Switch. After an unknown period of time after the events of Breath of the Wild, Link and Zelda are exploring a secret passage hidden beneath Hyrule Castle. Although King Rhoam had warned Zelda in the past that not even the royal family ... Now, The Legend of Zelda: Tears of the Kingdom will release on the Nintendo Switch on May 12, 2022. This news was revealed during the latest Nintendo Direct event, which debuted a new name and ... A couple of months after the release of The Legend of Zelda: Tears of the Kingdom, players are now working together to 100% their save files, down to every last tiny landmark.Over on the Tears of the The Legend of Zelda: Tears of the Kingdom is the 20th main game installment in the Zelda series (not counting side games and spin-offs) and it released on Mary 12 at 12:00 am midnight, US Eastern ...\n",
            "\n",
            "### Response:\n",
            "The Legend of Zelda: Tears of the Kingdom was released on May 12, 2023.\n"
          ]
        }
      ]
    },
    {
      "cell_type": "code",
      "source": [],
      "metadata": {
        "id": "vVdQGzT6TObk"
      },
      "execution_count": null,
      "outputs": []
    },
    {
      "cell_type": "code",
      "source": [
        "from langchain.agents import Tool, AgentExecutor, LLMSingleActionAgent, AgentOutputParser\n",
        "from langchain.prompts import BaseChatPromptTemplate\n",
        "from langchain import SerpAPIWrapper, LLMChain\n",
        "from langchain.chat_models import ChatOpenAI\n",
        "from typing import List, Union\n",
        "from langchain.schema import AgentAction, AgentFinish, HumanMessage\n",
        "import re\n",
        "from getpass import getpass\n",
        "\n",
        "llm = TextGen(model_url=\"https://night-traveler-part-trash.trycloudflare.com\", stopping_strings=[f\"\\n{your_name}:\", \"\\nHuman:\"])\n",
        "\n",
        "search = DuckDuckGoSearchRun() # DuckDuckGo tool\n",
        "\n",
        "search(\"When was zelda tears of the kingdom released?\")\n",
        "\n",
        "Question = \"When was zelda tears of the kingdom released?\"\n",
        "\n",
        "prompt_template = f\"\"\"Below is an instruction that describes a task, paired with an input that provides further context. Write a response that appropriately completes the request.\n",
        "\n",
        "### Instruction:\n",
        "{Question}\n",
        "\n",
        "### Input:\n",
        "{search(Question)}\n",
        "\n",
        "### Response:\n",
        "\"\"\"\n",
        "\n",
        "response = llm(prompt_template)\n",
        "\n"
      ],
      "metadata": {
        "id": "HemzN9fDWcwm"
      },
      "execution_count": null,
      "outputs": []
    }
  ]
}