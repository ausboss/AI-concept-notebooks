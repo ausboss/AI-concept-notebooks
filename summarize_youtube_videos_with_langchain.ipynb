{
  "cells": [
    {
      "cell_type": "markdown",
      "id": "7407c04a",
      "metadata": {
        "papermill": {
          "duration": 0.007448,
          "end_time": "2023-06-04T23:05:51.147218",
          "exception": false,
          "start_time": "2023-06-04T23:05:51.139770",
          "status": "completed"
        },
        "tags": [],
        "id": "7407c04a"
      },
      "source": [
        "# About\n",
        "\n",
        "- Use Langchain to create a summary of an youtube video (in english)\n",
        "- Use [Falcon](https://huggingface.co/h2oai/h2ogpt-gm-oasst1-en-2048-falcon-7b-v2) (fully open source chat model)"
      ]
    },
    {
      "cell_type": "markdown",
      "id": "34947585",
      "metadata": {
        "papermill": {
          "duration": 0.006412,
          "end_time": "2023-06-04T23:05:51.160294",
          "exception": false,
          "start_time": "2023-06-04T23:05:51.153882",
          "status": "completed"
        },
        "tags": [],
        "id": "34947585"
      },
      "source": [
        "# Installs & Imports"
      ]
    },
    {
      "cell_type": "code",
      "execution_count": null,
      "id": "91b81ca9",
      "metadata": {
        "execution": {
          "iopub.execute_input": "2023-06-04T23:05:51.175269Z",
          "iopub.status.busy": "2023-06-04T23:05:51.174509Z",
          "iopub.status.idle": "2023-06-04T23:08:32.026422Z",
          "shell.execute_reply": "2023-06-04T23:08:32.024887Z"
        },
        "papermill": {
          "duration": 160.862426,
          "end_time": "2023-06-04T23:08:32.029013",
          "exception": false,
          "start_time": "2023-06-04T23:05:51.166587",
          "status": "completed"
        },
        "tags": [],
        "colab": {
          "base_uri": "https://localhost:8080/"
        },
        "id": "91b81ca9",
        "outputId": "e5cbc70c-fa4e-486e-8c1b-32ba025a1f50"
      },
      "outputs": [
        {
          "output_type": "stream",
          "name": "stdout",
          "text": [
            "CPU times: user 347 ms, sys: 33.3 ms, total: 381 ms\n",
            "Wall time: 34.8 s\n"
          ]
        }
      ],
      "source": [
        "%%time\n",
        "! pip install -qq -U transformers\n",
        "! pip install -qq -U langchain youtube_transcript_api einops\n",
        "! pip install -qq -U accelerate bitsandbytes xformers"
      ]
    },
    {
      "cell_type": "code",
      "execution_count": null,
      "id": "ec34fd4c",
      "metadata": {
        "_cell_guid": "b1076dfc-b9ad-4769-8c92-a6c4dae69d19",
        "_uuid": "8f2839f25d086af736a60e9eeb907d3b93b6e0e5",
        "execution": {
          "iopub.execute_input": "2023-06-04T23:08:32.044415Z",
          "iopub.status.busy": "2023-06-04T23:08:32.044086Z",
          "iopub.status.idle": "2023-06-04T23:08:50.853652Z",
          "shell.execute_reply": "2023-06-04T23:08:50.852749Z"
        },
        "papermill": {
          "duration": 18.820477,
          "end_time": "2023-06-04T23:08:50.856416",
          "exception": false,
          "start_time": "2023-06-04T23:08:32.035939",
          "status": "completed"
        },
        "tags": [],
        "id": "ec34fd4c",
        "outputId": "17f94335-88d8-4e06-f6d2-394def3a3f93",
        "colab": {
          "base_uri": "https://localhost:8080/"
        }
      },
      "outputs": [
        {
          "output_type": "stream",
          "name": "stdout",
          "text": [
            "0.0.227\n"
          ]
        }
      ],
      "source": [
        "from IPython.display import YouTubeVideo\n",
        "\n",
        "from langchain.document_loaders import YoutubeLoader\n",
        "from langchain.text_splitter import RecursiveCharacterTextSplitter\n",
        "from langchain.chains import LLMChain\n",
        "from langchain.chains.summarize import load_summarize_chain\n",
        "from langchain.llms import HuggingFacePipeline\n",
        "from langchain.llms import TextGen\n",
        "\n",
        "from transformers import AutoTokenizer, AutoModelForCausalLM, pipeline\n",
        "\n",
        "import torch\n",
        "\n",
        "import langchain\n",
        "print(langchain.__version__)"
      ]
    },
    {
      "cell_type": "markdown",
      "source": [
        "# Put your endpoint api url here 👇\n"
      ],
      "metadata": {
        "id": "KdVF1TcOO4Z1"
      },
      "id": "KdVF1TcOO4Z1"
    },
    {
      "cell_type": "code",
      "source": [
        "endpoint = \"https://raising-df-zoning-proteins.trycloudflare.com\""
      ],
      "metadata": {
        "id": "8EgH7S30O3k1"
      },
      "id": "8EgH7S30O3k1",
      "execution_count": null,
      "outputs": []
    },
    {
      "cell_type": "markdown",
      "source": [
        "# Run for ooba"
      ],
      "metadata": {
        "id": "s-7VlVENOuWt"
      },
      "id": "s-7VlVENOuWt"
    },
    {
      "cell_type": "code",
      "source": [
        "llm = (model_url=endpoint)"
      ],
      "metadata": {
        "id": "8Mho436MOXyn"
      },
      "id": "8Mho436MOXyn",
      "execution_count": null,
      "outputs": []
    },
    {
      "cell_type": "markdown",
      "source": [
        "# Test your LLM instance"
      ],
      "metadata": {
        "id": "E5qNHRYaPwpo"
      },
      "id": "E5qNHRYaPwpo"
    },
    {
      "cell_type": "code",
      "source": [
        "llm(\"\"\"\n",
        "Question: What is the sum of 2 + 2?\n",
        "Answer:\n",
        "\"\"\")"
      ],
      "metadata": {
        "colab": {
          "base_uri": "https://localhost:8080/",
          "height": 53
        },
        "id": "1TyE7DOjP0Al",
        "outputId": "7815fe79-cacf-4c28-fb52-03f1f4a5e43a"
      },
      "id": "1TyE7DOjP0Al",
      "execution_count": null,
      "outputs": [
        {
          "output_type": "stream",
          "name": "stdout",
          "text": [
            "4\n"
          ]
        },
        {
          "output_type": "execute_result",
          "data": {
            "text/plain": [
              "'4'"
            ],
            "application/vnd.google.colaboratory.intrinsic+json": {
              "type": "string"
            }
          },
          "metadata": {},
          "execution_count": 19
        }
      ]
    },
    {
      "cell_type": "markdown",
      "id": "8e03ba42",
      "metadata": {
        "papermill": {
          "duration": 0.009509,
          "end_time": "2023-06-04T23:08:50.876295",
          "exception": false,
          "start_time": "2023-06-04T23:08:50.866786",
          "status": "completed"
        },
        "tags": [],
        "id": "8e03ba42"
      },
      "source": [
        "# Video\n",
        "\n",
        "- Provide the ID of the video\n",
        "- Just visualize the video in the notebook"
      ]
    },
    {
      "cell_type": "code",
      "execution_count": null,
      "id": "26de90a7",
      "metadata": {
        "execution": {
          "iopub.execute_input": "2023-06-04T23:08:50.897005Z",
          "iopub.status.busy": "2023-06-04T23:08:50.896561Z",
          "iopub.status.idle": "2023-06-04T23:08:50.956606Z",
          "shell.execute_reply": "2023-06-04T23:08:50.955751Z"
        },
        "papermill": {
          "duration": 0.073199,
          "end_time": "2023-06-04T23:08:50.959103",
          "exception": false,
          "start_time": "2023-06-04T23:08:50.885904",
          "status": "completed"
        },
        "tags": [],
        "id": "26de90a7",
        "outputId": "314021c0-a3ae-486d-a03e-68239f59155f",
        "colab": {
          "base_uri": "https://localhost:8080/",
          "height": 521
        }
      },
      "outputs": [
        {
          "output_type": "execute_result",
          "data": {
            "text/plain": [
              "<IPython.lib.display.YouTubeVideo at 0x7f83948a6dd0>"
            ],
            "text/html": [
              "\n",
              "        <iframe\n",
              "            width=\"700\"\n",
              "            height=\"500\"\n",
              "            src=\"https://www.youtube.com/embed/Y_O-x-itHaU\"\n",
              "            frameborder=\"0\"\n",
              "            allowfullscreen\n",
              "            \n",
              "        ></iframe>\n",
              "        "
            ],
            "image/jpeg": "[encoded data removed]"
          },
          "metadata": {},
          "execution_count": 20
        }
      ],
      "source": [
        "YouTubeVideo('Y_O-x-itHaU', width=700, height=500)"
      ]
    },
    {
      "cell_type": "markdown",
      "id": "7a96056e",
      "metadata": {
        "papermill": {
          "duration": 0.009851,
          "end_time": "2023-06-04T23:08:50.979811",
          "exception": false,
          "start_time": "2023-06-04T23:08:50.969960",
          "status": "completed"
        },
        "tags": [],
        "id": "7a96056e"
      },
      "source": [
        "# Load video\n",
        "\n",
        "With Langchain"
      ]
    },
    {
      "cell_type": "code",
      "execution_count": null,
      "id": "43c37bd0",
      "metadata": {
        "execution": {
          "iopub.execute_input": "2023-06-04T23:08:51.002182Z",
          "iopub.status.busy": "2023-06-04T23:08:51.001226Z",
          "iopub.status.idle": "2023-06-04T23:08:51.586490Z",
          "shell.execute_reply": "2023-06-04T23:08:51.585568Z"
        },
        "papermill": {
          "duration": 0.59941,
          "end_time": "2023-06-04T23:08:51.589382",
          "exception": false,
          "start_time": "2023-06-04T23:08:50.989972",
          "status": "completed"
        },
        "tags": [],
        "id": "43c37bd0"
      },
      "outputs": [],
      "source": [
        "loader = YoutubeLoader.from_youtube_url(\"https://www.youtube.com/watch?v=Y_O-x-itHaU\")\n",
        "transcript = loader.load()"
      ]
    },
    {
      "cell_type": "code",
      "execution_count": null,
      "id": "2cfe6872",
      "metadata": {
        "execution": {
          "iopub.execute_input": "2023-06-04T23:08:51.607480Z",
          "iopub.status.busy": "2023-06-04T23:08:51.605954Z",
          "iopub.status.idle": "2023-06-04T23:08:51.614520Z",
          "shell.execute_reply": "2023-06-04T23:08:51.613713Z"
        },
        "papermill": {
          "duration": 0.019211,
          "end_time": "2023-06-04T23:08:51.616526",
          "exception": false,
          "start_time": "2023-06-04T23:08:51.597315",
          "status": "completed"
        },
        "tags": [],
        "id": "2cfe6872",
        "outputId": "4efae067-654e-41af-af35-b169cafc0005",
        "colab": {
          "base_uri": "https://localhost:8080/"
        }
      },
      "outputs": [
        {
          "output_type": "execute_result",
          "data": {
            "text/plain": [
              "[Document(page_content=\"land chain is one of the hottest AI Frameworks right now with over 40 000 stars on GitHub as of this video let me help you understand some of the most important aspects of Lang chain and why it's such an amazing library to work with most of us have used chat GPT and are quite fascinated by its capabilities so you can add something like write in this style of Shakespeare how to cook pasta so what happens behind the scenes is that it takes your input and sends it to an AI system as a prompt and that generates a response which is provided back to you and often these systems are called large language models which are trained on a huge amount of text Data from the internet now I want you to imagine a scenario where you are an instructor and you want your students to use chat GPT and submit all of their assignments in the written style of Shakespeare so you can imagine that most of our students are prompting chat GPT to write in this style of Shakespeare and this is quite a waste of time due to the repetition of the same prompt by so many people so to help out our students we decide to build a chat GPT Style app which has a base prompt to write in this style of Shakespeare and it combines that with the user input and since all of that combined together as a prompt to the large language model and gets a response back this technique of combining user input with a base prompt can be easily achieved in langtain using a concept called prompt template prompt templates are quite powerful in a sense that you can give specific instructions to an llm as how to behave or how to respond to the prompt you can say something like you are a helpful assistant or you are an expert in the area these will change the response back from llm drastically now our application is working great we just want to add the capability where we could call any of the available LMS Lang chain makes this very easy where we could swap out any of the llms listed under the model section you might have noticed that there are a few steps happening here where we take the prompt template and provide the user input to it and then specify the L M before we make a call to the llm for the response lag chain makes it easy where we can link all of these components together by something called chain chains are core building blocks of land chain which can help us achieve a specific task by linking multiple components together there are many different types of chains available in Lang chain and these chains are often named after the tasks they perform in our earlier example we wanted to call an llm the chain for that is llm chain if we would like to perform math problems the chain for that is nlm math chain and if we were to perform SQL operations the chain for that is called SQL database chain and if we were to retrieve an answer the chain for that is retrieval QA chain these are some of the many available chains in the langchain library now question answering chains have a special place in the link chain Library so I would like to expand on this a little more let's go back to our example where now we want our students to use chat GPT to answer questions or search from entire books so if they were to copy the text from these books and paste in chat GPT most likely they'll get an error like this which says that it was too long for chat GPT to process and give answer now the way we can overcome this is using Lang chain in Lang chain the typical q a process starts with first loading the document with something called document loaders which helps us extract the text from Source documents and there are a number of document loaders available in Lang chain which support a variety of document formats now once the text is available to us we need to split that text using something called text Splitters which takes the long pieces of text and convert it into small chunks now the next step is to take these chunks of text and convert it to numbers using something called embedding models the way these embedding models work is that they take the text and assign it a number based on their meaning so words and sentences which are similar in meaning are closer to each other in the numbers that are assigned the next step is to store these numbers in a storage called Vector stores or vector databases so that we can later retrieve him now this completes the embedding path or indexing of these documents the retrieval process starts with Vector stores where we have a number of vectors available now to help us understand visually let's imagine these vectors are in two Dimensions with X and Y component which we can plot on an X Y plot in a way that similar meaning vectors are closer in proximity on this X Y axis now once a user asks a question then that question is also embedded in a similar Dimension and then compared against the vectors available to us and there are a number of ways we can retrieve these vectors one of the most common ones is to do a similarity based search where we select the nearest neighbors to our question and retrieve those vectors and convert them to original text form and then generate our response based on those text pieces so essentially now we can take any of the document and store it in Vector stores and when we get a question we can retrieve the answer and then generate a response which means that our students can now search through entire books and get response back from our chat application using the retrieval QA chain now what if we want our chat application to not just search entire books but also perform SQL operations as well as search internet and a few additional tasks the way we can achieve this in langchain is using one of the most exciting features that is Agents language and agents are assistants who have access to tools and can perform tasks using those tools and these agents could be communicated using similar chat interface where if we were to ask him question from the book they know which tool to use and in this case to use the retrieval QA chain and if it were a question about SQL operation then they know to use that particular chain there are a number of agents and there are multiple tools available for these agents in the langchin library you can search internet you can access shell you can also access the thousands of tools available in zapier as well as you can run python function not just that you can use chains as tools as well as custom functions and also other agents as tools now what if we want our agents to remember our conversations for that there is something called memory in Lang chain and there are many different types of memories that can be configured to run with either agents or chains and it helps them remember our conversations in either short term or long term and can be accessed by our application as needed and what if we want our application to generate a response in a way that we could use it Downstream so maybe we want in a Json format or we want in a particular format to do that there is something called output parsers output parsers make sure that the response from the nlm is in a certain format which could be then used Downstream with that we covered an overview of some of the most important features in langtune library and if you'd like to learn in depth on these topics please check my upcoming course at buildbyu.com where we're going to build AI apps using lag chain and understand langchain library in details also if you are a business or an organization and you would like for us to build your land chain applications reach out to us at Menlo parklab.com and of course don't forget to like And subscribe thank you\", metadata={'source': 'Y_O-x-itHaU'})]"
            ]
          },
          "metadata": {},
          "execution_count": 22
        }
      ],
      "source": [
        "transcript"
      ]
    },
    {
      "cell_type": "markdown",
      "id": "fe2ccbf2",
      "metadata": {
        "papermill": {
          "duration": 0.007383,
          "end_time": "2023-06-04T23:08:51.631359",
          "exception": false,
          "start_time": "2023-06-04T23:08:51.623976",
          "status": "completed"
        },
        "tags": [],
        "id": "fe2ccbf2"
      },
      "source": [
        "# Splitter"
      ]
    },
    {
      "cell_type": "markdown",
      "source": [],
      "metadata": {
        "id": "vyA_N0bdU05Q"
      },
      "id": "vyA_N0bdU05Q"
    },
    {
      "cell_type": "code",
      "execution_count": null,
      "id": "aaf5d5e1",
      "metadata": {
        "execution": {
          "iopub.execute_input": "2023-06-04T23:08:51.648156Z",
          "iopub.status.busy": "2023-06-04T23:08:51.646656Z",
          "iopub.status.idle": "2023-06-04T23:08:51.656152Z",
          "shell.execute_reply": "2023-06-04T23:08:51.655341Z"
        },
        "papermill": {
          "duration": 0.019575,
          "end_time": "2023-06-04T23:08:51.658101",
          "exception": false,
          "start_time": "2023-06-04T23:08:51.638526",
          "status": "completed"
        },
        "tags": [],
        "id": "aaf5d5e1"
      },
      "outputs": [],
      "source": [
        "text_splitter = RecursiveCharacterTextSplitter(chunk_size=2000, chunk_overlap=50)\n",
        "texts = text_splitter.split_documents(transcript)"
      ]
    },
    {
      "cell_type": "code",
      "execution_count": null,
      "id": "86db5442",
      "metadata": {
        "execution": {
          "iopub.execute_input": "2023-06-04T23:08:51.674565Z",
          "iopub.status.busy": "2023-06-04T23:08:51.673799Z",
          "iopub.status.idle": "2023-06-04T23:08:51.680455Z",
          "shell.execute_reply": "2023-06-04T23:08:51.679423Z"
        },
        "papermill": {
          "duration": 0.016984,
          "end_time": "2023-06-04T23:08:51.682602",
          "exception": false,
          "start_time": "2023-06-04T23:08:51.665618",
          "status": "completed"
        },
        "tags": [],
        "id": "86db5442",
        "outputId": "bfb102e8-f9f5-4f8a-aabb-9adc4f6fcc8e",
        "colab": {
          "base_uri": "https://localhost:8080/"
        }
      },
      "outputs": [
        {
          "output_type": "execute_result",
          "data": {
            "text/plain": [
              "4"
            ]
          },
          "metadata": {},
          "execution_count": 24
        }
      ],
      "source": [
        "len(texts)"
      ]
    },
    {
      "cell_type": "markdown",
      "id": "d74ecf38",
      "metadata": {
        "papermill": {
          "duration": 0.00761,
          "end_time": "2023-06-04T23:08:51.697576",
          "exception": false,
          "start_time": "2023-06-04T23:08:51.689966",
          "status": "completed"
        },
        "tags": [],
        "id": "d74ecf38"
      },
      "source": [
        "# Model"
      ]
    },
    {
      "cell_type": "markdown",
      "id": "65c40c6e",
      "metadata": {
        "papermill": {
          "duration": 0.010733,
          "end_time": "2023-06-04T23:12:15.731209",
          "exception": false,
          "start_time": "2023-06-04T23:12:15.720476",
          "status": "completed"
        },
        "tags": [],
        "id": "65c40c6e"
      },
      "source": [
        "# Summarize chain\n",
        "\n",
        "There are three options for chain_type:\n",
        "- \"stuff\"\n",
        "- \"map_reduce\"\n",
        "- \"refine\""
      ]
    },
    {
      "cell_type": "markdown",
      "id": "4481a5ea",
      "metadata": {
        "papermill": {
          "duration": 0.009908,
          "end_time": "2023-06-04T23:12:15.751568",
          "exception": false,
          "start_time": "2023-06-04T23:12:15.741660",
          "status": "completed"
        },
        "tags": [],
        "id": "4481a5ea"
      },
      "source": [
        "## Default prompt template"
      ]
    },
    {
      "cell_type": "code",
      "execution_count": null,
      "id": "94b3be50",
      "metadata": {
        "execution": {
          "iopub.execute_input": "2023-06-04T23:12:15.772631Z",
          "iopub.status.busy": "2023-06-04T23:12:15.772341Z",
          "iopub.status.idle": "2023-06-04T23:12:15.777259Z",
          "shell.execute_reply": "2023-06-04T23:12:15.776293Z"
        },
        "papermill": {
          "duration": 0.017743,
          "end_time": "2023-06-04T23:12:15.779194",
          "exception": false,
          "start_time": "2023-06-04T23:12:15.761451",
          "status": "completed"
        },
        "tags": [],
        "id": "94b3be50"
      },
      "outputs": [],
      "source": [
        "chain = load_summarize_chain(llm=llm, chain_type=\"map_reduce\", verbose=True)"
      ]
    },
    {
      "cell_type": "code",
      "execution_count": null,
      "id": "5bcad784",
      "metadata": {
        "execution": {
          "iopub.execute_input": "2023-06-04T23:12:15.800942Z",
          "iopub.status.busy": "2023-06-04T23:12:15.800668Z",
          "iopub.status.idle": "2023-06-04T23:12:15.808892Z",
          "shell.execute_reply": "2023-06-04T23:12:15.808051Z"
        },
        "papermill": {
          "duration": 0.02145,
          "end_time": "2023-06-04T23:12:15.810843",
          "exception": false,
          "start_time": "2023-06-04T23:12:15.789393",
          "status": "completed"
        },
        "tags": [],
        "id": "5bcad784",
        "outputId": "6e805613-32f9-42f8-ad87-0a3fe319bb10"
      },
      "outputs": [
        {
          "data": {
            "text/plain": [
              "MapReduceDocumentsChain(memory=None, callbacks=None, callback_manager=None, verbose=True, input_key='input_documents', output_key='output_text', llm_chain=LLMChain(memory=None, callbacks=None, callback_manager=None, verbose=True, prompt=PromptTemplate(input_variables=['text'], output_parser=None, partial_variables={}, template='Write a concise summary of the following:\\n\\n\\n\"{text}\"\\n\\n\\nCONCISE SUMMARY:', template_format='f-string', validate_template=True), llm=HuggingFacePipeline(cache=None, verbose=False, callbacks=None, callback_manager=None, pipeline=<transformers.pipelines.text_generation.TextGenerationPipeline object at 0x7d472d493bb0>, model_id='gpt2', model_kwargs=None, pipeline_kwargs=None), output_key='text'), combine_document_chain=StuffDocumentsChain(memory=None, callbacks=None, callback_manager=None, verbose=True, input_key='input_documents', output_key='output_text', llm_chain=LLMChain(memory=None, callbacks=None, callback_manager=None, verbose=True, prompt=PromptTemplate(input_variables=['text'], output_parser=None, partial_variables={}, template='Write a concise summary of the following:\\n\\n\\n\"{text}\"\\n\\n\\nCONCISE SUMMARY:', template_format='f-string', validate_template=True), llm=HuggingFacePipeline(cache=None, verbose=False, callbacks=None, callback_manager=None, pipeline=<transformers.pipelines.text_generation.TextGenerationPipeline object at 0x7d472d493bb0>, model_id='gpt2', model_kwargs=None, pipeline_kwargs=None), output_key='text'), document_prompt=PromptTemplate(input_variables=['page_content'], output_parser=None, partial_variables={}, template='{page_content}', template_format='f-string', validate_template=True), document_variable_name='text', document_separator='\\n\\n'), collapse_document_chain=None, document_variable_name='text', return_intermediate_steps=False)"
            ]
          },
          "execution_count": 11,
          "metadata": {},
          "output_type": "execute_result"
        }
      ],
      "source": [
        "chain"
      ]
    },
    {
      "cell_type": "code",
      "execution_count": null,
      "id": "5bb68b91",
      "metadata": {
        "execution": {
          "iopub.execute_input": "2023-06-04T23:12:15.834372Z",
          "iopub.status.busy": "2023-06-04T23:12:15.832875Z",
          "iopub.status.idle": "2023-06-04T23:12:15.840126Z",
          "shell.execute_reply": "2023-06-04T23:12:15.839218Z"
        },
        "papermill": {
          "duration": 0.020317,
          "end_time": "2023-06-04T23:12:15.842199",
          "exception": false,
          "start_time": "2023-06-04T23:12:15.821882",
          "status": "completed"
        },
        "tags": [],
        "id": "5bb68b91",
        "outputId": "e224b38e-b2e6-4f8d-d2f5-9b7e2212c88f"
      },
      "outputs": [
        {
          "data": {
            "text/plain": [
              "'Write a concise summary of the following:\\n\\n\\n\"{text}\"\\n\\n\\nCONCISE SUMMARY:'"
            ]
          },
          "execution_count": 12,
          "metadata": {},
          "output_type": "execute_result"
        }
      ],
      "source": [
        "### default prompt template\n",
        "chain.llm_chain.prompt.template"
      ]
    },
    {
      "cell_type": "code",
      "execution_count": null,
      "id": "c3ff41e1",
      "metadata": {
        "execution": {
          "iopub.execute_input": "2023-06-04T23:12:15.864641Z",
          "iopub.status.busy": "2023-06-04T23:12:15.863198Z",
          "iopub.status.idle": "2023-06-04T23:23:49.307667Z",
          "shell.execute_reply": "2023-06-04T23:23:49.306302Z"
        },
        "papermill": {
          "duration": 693.470015,
          "end_time": "2023-06-04T23:23:49.322376",
          "exception": false,
          "start_time": "2023-06-04T23:12:15.852361",
          "status": "completed"
        },
        "tags": [],
        "colab": {
          "referenced_widgets": [
            "a666dcd347734cf18c882606f091cfce",
            "2f53c5085a25452e8c424c71058f77d6",
            "9acdf4f1a46a4486a9ba59e9c0709bf1",
            "7ea50c28bbf745798478abb0241ea8fe"
          ]
        },
        "id": "c3ff41e1",
        "outputId": "798d49e3-c220-4ca5-c3e9-b682a2c0cb27"
      },
      "outputs": [
        {
          "name": "stdout",
          "output_type": "stream",
          "text": [
            "\n",
            "\n",
            "\u001b[1m> Entering new MapReduceDocumentsChain chain...\u001b[0m\n",
            "\n",
            "\n",
            "\u001b[1m> Entering new LLMChain chain...\u001b[0m\n",
            "Prompt after formatting:\n",
            "\u001b[32;1m\u001b[1;3mWrite a concise summary of the following:\n",
            "\n",
            "\n",
            "\"land chain is one of the hottest AI Frameworks right now with over 40 000 stars on GitHub as of this video let me help you understand some of the most important aspects of Lang chain and why it's such an amazing library to work with most of us have used chat GPT and are quite fascinated by its capabilities so you can add something like write in this style of Shakespeare how to cook pasta so what happens behind the scenes is that it takes your input and sends it to an AI system as a prompt and that generates a response which is provided back to you and often these systems are called large language models which are trained on a huge amount of text Data from the internet now I want you to imagine a scenario where you are an instructor and you want your students to use chat GPT and submit all of their assignments in the written style of Shakespeare so you can imagine that most of our students are prompting chat GPT to write in this style of Shakespeare and this is quite a waste of time due to the repetition of the same prompt by so many people so to help out our students we decide to build a chat GPT Style app which has a base prompt to write in this style of Shakespeare and it combines that with the user input and since all of that combined together as a prompt to the large language model and gets a response back this technique of combining user input with a base prompt can be easily achieved in langtain using a concept called prompt template prompt templates are quite powerful in a sense that you can give specific instructions to an llm as how to behave or how to respond to the prompt you can say something like you are a helpful assistant or you are an expert in the area these will change the response back from llm drastically now our application is working great we just want to add the capability where we could call any of the available LMS Lang chain makes this very easy where we could swap out any of the llms listed under the model section you might have noticed\"\n",
            "\n",
            "\n",
            "CONCISE SUMMARY:\u001b[0m\n",
            "Prompt after formatting:\n",
            "\u001b[32;1m\u001b[1;3mWrite a concise summary of the following:\n",
            "\n",
            "\n",
            "\"under the model section you might have noticed that there are a few steps happening here where we take the prompt template and provide the user input to it and then specify the L M before we make a call to the llm for the response lag chain makes it easy where we can link all of these components together by something called chain chains are core building blocks of land chain which can help us achieve a specific task by linking multiple components together there are many different types of chains available in Lang chain and these chains are often named after the tasks they perform in our earlier example we wanted to call an llm the chain for that is llm chain if we would like to perform math problems the chain for that is nlm math chain and if we were to perform SQL operations the chain for that is called SQL database chain and if we were to retrieve an answer the chain for that is retrieval QA chain these are some of the many available chains in the langchain library now question answering chains have a special place in the link chain Library so I would like to expand on this a little more let's go back to our example where now we want our students to use chat GPT to answer questions or search from entire books so if they were to copy the text from these books and paste in chat GPT most likely they'll get an error like this which says that it was too long for chat GPT to process and give answer now the way we can overcome this is using Lang chain in Lang chain the typical q a process starts with first loading the document with something called document loaders which helps us extract the text from Source documents and there are a number of document loaders available in Lang chain which support a variety of document formats now once the text is available to us we need to split that text using something called text Splitters which takes the long pieces of text and convert it into small chunks now the next step is to take these chunks of text and convert it to numbers\"\n",
            "\n",
            "\n",
            "CONCISE SUMMARY:\u001b[0m\n",
            "Prompt after formatting:\n",
            "\u001b[32;1m\u001b[1;3mWrite a concise summary of the following:\n",
            "\n",
            "\n",
            "\"these chunks of text and convert it to numbers using something called embedding models the way these embedding models work is that they take the text and assign it a number based on their meaning so words and sentences which are similar in meaning are closer to each other in the numbers that are assigned the next step is to store these numbers in a storage called Vector stores or vector databases so that we can later retrieve him now this completes the embedding path or indexing of these documents the retrieval process starts with Vector stores where we have a number of vectors available now to help us understand visually let's imagine these vectors are in two Dimensions with X and Y component which we can plot on an X Y plot in a way that similar meaning vectors are closer in proximity on this X Y axis now once a user asks a question then that question is also embedded in a similar Dimension and then compared against the vectors available to us and there are a number of ways we can retrieve these vectors one of the most common ones is to do a similarity based search where we select the nearest neighbors to our question and retrieve those vectors and convert them to original text form and then generate our response based on those text pieces so essentially now we can take any of the document and store it in Vector stores and when we get a question we can retrieve the answer and then generate a response which means that our students can now search through entire books and get response back from our chat application using the retrieval QA chain now what if we want our chat application to not just search entire books but also perform SQL operations as well as search internet and a few additional tasks the way we can achieve this in langchain is using one of the most exciting features that is Agents language and agents are assistants who have access to tools and can perform tasks using those tools and these agents could be communicated using similar chat interface\"\n",
            "\n",
            "\n",
            "CONCISE SUMMARY:\u001b[0m\n",
            "Prompt after formatting:\n",
            "\u001b[32;1m\u001b[1;3mWrite a concise summary of the following:\n",
            "\n",
            "\n",
            "\"be communicated using similar chat interface where if we were to ask him question from the book they know which tool to use and in this case to use the retrieval QA chain and if it were a question about SQL operation then they know to use that particular chain there are a number of agents and there are multiple tools available for these agents in the langchin library you can search internet you can access shell you can also access the thousands of tools available in zapier as well as you can run python function not just that you can use chains as tools as well as custom functions and also other agents as tools now what if we want our agents to remember our conversations for that there is something called memory in Lang chain and there are many different types of memories that can be configured to run with either agents or chains and it helps them remember our conversations in either short term or long term and can be accessed by our application as needed and what if we want our application to generate a response in a way that we could use it Downstream so maybe we want in a Json format or we want in a particular format to do that there is something called output parsers output parsers make sure that the response from the nlm is in a certain format which could be then used Downstream with that we covered an overview of some of the most important features in langtune library and if you'd like to learn in depth on these topics please check my upcoming course at buildbyu.com where we're going to build AI apps using lag chain and understand langchain library in details also if you are a business or an organization and you would like for us to build your land chain applications reach out to us at Menlo parklab.com and of course don't forget to like And subscribe thank you\"\n",
            "\n",
            "\n",
            "CONCISE SUMMARY:\u001b[0m\n",
            "\n",
            "\u001b[1m> Finished chain.\u001b[0m\n"
          ]
        },
        {
          "data": {
            "application/vnd.jupyter.widget-view+json": {
              "model_id": "a666dcd347734cf18c882606f091cfce",
              "version_major": 2,
              "version_minor": 0
            },
            "text/plain": [
              "Downloading (…)olve/main/vocab.json:   0%|          | 0.00/1.04M [00:00<?, ?B/s]"
            ]
          },
          "metadata": {},
          "output_type": "display_data"
        },
        {
          "data": {
            "application/vnd.jupyter.widget-view+json": {
              "model_id": "2f53c5085a25452e8c424c71058f77d6",
              "version_major": 2,
              "version_minor": 0
            },
            "text/plain": [
              "Downloading (…)olve/main/merges.txt:   0%|          | 0.00/456k [00:00<?, ?B/s]"
            ]
          },
          "metadata": {},
          "output_type": "display_data"
        },
        {
          "data": {
            "application/vnd.jupyter.widget-view+json": {
              "model_id": "9acdf4f1a46a4486a9ba59e9c0709bf1",
              "version_major": 2,
              "version_minor": 0
            },
            "text/plain": [
              "Downloading (…)/main/tokenizer.json:   0%|          | 0.00/1.36M [00:00<?, ?B/s]"
            ]
          },
          "metadata": {},
          "output_type": "display_data"
        },
        {
          "data": {
            "application/vnd.jupyter.widget-view+json": {
              "model_id": "7ea50c28bbf745798478abb0241ea8fe",
              "version_major": 2,
              "version_minor": 0
            },
            "text/plain": [
              "Downloading (…)lve/main/config.json:   0%|          | 0.00/665 [00:00<?, ?B/s]"
            ]
          },
          "metadata": {},
          "output_type": "display_data"
        },
        {
          "name": "stdout",
          "output_type": "stream",
          "text": [
            "\n",
            "\n",
            "\u001b[1m> Entering new StuffDocumentsChain chain...\u001b[0m\n",
            "\n",
            "\n",
            "\u001b[1m> Entering new LLMChain chain...\u001b[0m\n",
            "Prompt after formatting:\n",
            "\u001b[32;1m\u001b[1;3mWrite a concise summary of the following:\n",
            "\n",
            "\n",
            "\"\n",
            "\n",
            "Lang Chain is a popular AI framework that allows developers to create chat-style GPT models. It is based on the idea of combining user input with a base prompt to generate a response. Prompt templates allow developers to provide specific instructions to the LLM, such as being helpful or an expert in the area. The application is working well, but the developers want to add the ability to call any of the available LLMs. Lang Chain makes this easy by allowing developers to swap out any of the LLMs listed under the model section.\n",
            "\n",
            "\n",
            "\n",
            "1. Under the model section, you may have noticed that there are a few steps happening here where we take the prompt template and provide the user input to it, and then specify the LM before we make a call to the LLM for the response.\n",
            "\n",
            "2. Question Answering Chains (QAC) have a special place in the Link Chain Library, so I would like to expand on this a little more.\n",
            "\n",
            "3. If students were to copy the text from these books and paste it into ChatGPT, most likely they would get an error like this: \"It was too long for ChatGPT to process and give an answer.\"\n",
            "\n",
            "4. The way we can overcome this is by using Lang Chain in Lang Chain, the typical Q&A process starts with first loading the document with something called Document Loaders, which helps us extract the text from Source documents. There are a number of Document Loaders available in Lang Chain, which support a variety of document formats.\n",
            "\n",
            "5. Once the text is available to us, we need to split that text using something called Text Splitters, which takes the long pieces of text and converts it into small chunks.\n",
            "\n",
            "6. The next step is to take these chunks of text and convert it to numbers.\n",
            "\n",
            "\n",
            "\n",
            "Langchain is a language-based chatbot platform that uses embeddings to index and retrieve documents. The retrieval process starts with Vector stores, where we have a number of vectors available. These vectors are in two dimensions with X and Y components, which we can plot on an X-Y plot in a way that similar meaning vectors are closer in proximity. Once a user asks a question, that question is also embedded in a similar dimension and then compared against the vectors available to us. There are several ways to retrieve these vectors, such as doing a similarity-based search where we select the nearest neighbors to our question and retrieve those vectors and convert them to original text form and then generate our response based on those text pieces. Essentially, now we can take any document and store it in Vector stores, and when we get a question, we can retrieve the answer and then generate a response, which means that our students can now search through entire books and get responses back from our chat application using the retrieval QA chain.\n",
            "\n",
            "\n",
            "\n",
            "Langchain is a powerful library that allows developers to create chatbots and AI applications using natural language processing (NLP) techniques. It provides a set of tools and libraries that enable developers to build conversational interfaces, retrieve information from databases, and generate responses in various formats. Output parsers ensure that the responses generated by the NLM are in a specific format that can be used downstream.\"\n",
            "\n",
            "\n",
            "CONCISE SUMMARY:\u001b[0m\n",
            "\n",
            "\u001b[1m> Finished chain.\u001b[0m\n",
            "\n",
            "\u001b[1m> Finished chain.\u001b[0m\n",
            "\n",
            "\u001b[1m> Finished chain.\u001b[0m\n",
            "CPU times: user 11min 24s, sys: 1.17 s, total: 11min 25s\n",
            "Wall time: 11min 33s\n"
          ]
        },
        {
          "data": {
            "text/plain": [
              "'\\n\\nLang Chain is a popular AI framework that allows developers to create chat-style GPT models. It is based on the idea of combining user input with a base prompt to generate a response. Prompt templates allow developers to provide specific instructions to the LLM, such as being helpful or an expert in the area. The application is working well, but the developers want to add the ability to call any of the available LLMs. Lang Chain makes this easy by allowing developers to swap out any of the LLMs listed under the model section.\\n\\nQuestion Answering Chains (QAC) have a special place in the Link Chain Library, so I would like to expand on this a little more. If students were to copy the text from these books and paste it into ChatGPT, most likely they would get an error like this: \"It was too long for ChatGPT to process and give an answer.\" The way we can overcome this is by using Lang Chain in Lang Chain, the typical Q&A process starts with first loading the document with something called Document Loaders, which helps us extract the text from Source documents. There are a number of Document Loaders available in Lang Chain, which support a variety of document formats. Once the text is available to us, we need to split that text using something called Text Splitters, which takes the long pieces of text and converts it into small chunks. The next step is to take these chunks of text and convert it to numbers.\\n\\nLangchain is a language-based chatbot platform that uses embeddings to index and retrieve documents. The retrieval process starts with Vector stores, where we have a number of vectors available. These vectors are in two dimensions with X and Y components, which we can plot on an X-Y plot in a way that similar meaning vectors are closer in proximity. Once a user asks a question, that question is also embedded in a similar dimension and then compared against the vectors available to us. There are several ways to retrieve these vectors, such as doing a similarity-based search where we select the nearest neighbors to our question and retrieve those vectors and convert them to original text form and then generate our response based on those text pieces. Essentially, now we can take any document and store it in Vector stores, and when we get a question, we can retrieve the answer and then generate a response, which means that our students can now search through entire books and get responses back from our chat application using the retrieval QA chain.'"
            ]
          },
          "execution_count": 13,
          "metadata": {},
          "output_type": "execute_result"
        }
      ],
      "source": [
        "%%time\n",
        "\n",
        "# Run the chain with verbose=True\n",
        "summary = chain.run(texts)\n",
        "summary"
      ]
    },
    {
      "cell_type": "code",
      "execution_count": null,
      "id": "2e4d3797",
      "metadata": {
        "execution": {
          "iopub.execute_input": "2023-06-04T23:23:49.348962Z",
          "iopub.status.busy": "2023-06-04T23:23:49.348642Z",
          "iopub.status.idle": "2023-06-04T23:23:49.355039Z",
          "shell.execute_reply": "2023-06-04T23:23:49.354089Z"
        },
        "papermill": {
          "duration": 0.022272,
          "end_time": "2023-06-04T23:23:49.357079",
          "exception": false,
          "start_time": "2023-06-04T23:23:49.334807",
          "status": "completed"
        },
        "tags": [],
        "id": "2e4d3797",
        "outputId": "13cb83f4-720e-48f0-f4f1-d8f8a33cfb7e"
      },
      "outputs": [
        {
          "data": {
            "text/plain": [
              "2490"
            ]
          },
          "execution_count": 14,
          "metadata": {},
          "output_type": "execute_result"
        }
      ],
      "source": [
        "len(summary)"
      ]
    },
    {
      "cell_type": "markdown",
      "id": "c03382c8",
      "metadata": {
        "papermill": {
          "duration": 0.011945,
          "end_time": "2023-06-04T23:23:49.381611",
          "exception": false,
          "start_time": "2023-06-04T23:23:49.369666",
          "status": "completed"
        },
        "tags": [],
        "id": "c03382c8"
      },
      "source": [
        "## Custom prompt template"
      ]
    },
    {
      "cell_type": "code",
      "execution_count": null,
      "id": "af5d7c83",
      "metadata": {
        "execution": {
          "iopub.execute_input": "2023-06-04T23:23:49.407304Z",
          "iopub.status.busy": "2023-06-04T23:23:49.406391Z",
          "iopub.status.idle": "2023-06-04T23:23:49.411700Z",
          "shell.execute_reply": "2023-06-04T23:23:49.410825Z"
        },
        "papermill": {
          "duration": 0.019911,
          "end_time": "2023-06-04T23:23:49.413706",
          "exception": false,
          "start_time": "2023-06-04T23:23:49.393795",
          "status": "completed"
        },
        "tags": [],
        "id": "af5d7c83"
      },
      "outputs": [],
      "source": [
        "chain2 = load_summarize_chain(llm=llm, chain_type=\"map_reduce\", verbose=False)"
      ]
    },
    {
      "cell_type": "code",
      "execution_count": null,
      "id": "8bd1ece6",
      "metadata": {
        "execution": {
          "iopub.execute_input": "2023-06-04T23:23:49.439559Z",
          "iopub.status.busy": "2023-06-04T23:23:49.438770Z",
          "iopub.status.idle": "2023-06-04T23:23:49.443400Z",
          "shell.execute_reply": "2023-06-04T23:23:49.442488Z"
        },
        "papermill": {
          "duration": 0.019529,
          "end_time": "2023-06-04T23:23:49.445367",
          "exception": false,
          "start_time": "2023-06-04T23:23:49.425838",
          "status": "completed"
        },
        "tags": [],
        "id": "8bd1ece6"
      },
      "outputs": [],
      "source": [
        "### change the prompt template\n",
        "chain2.llm_chain.prompt.template = \\\n",
        "\"\"\"Write a three paragraph summary the following:\n",
        "\n",
        "\n",
        "\"{text}\"\n",
        "\n",
        "\n",
        "3 PARAGRAPH SUMMARY:\"\"\""
      ]
    },
    {
      "cell_type": "code",
      "execution_count": null,
      "id": "0488adbc",
      "metadata": {
        "execution": {
          "iopub.execute_input": "2023-06-04T23:23:49.471335Z",
          "iopub.status.busy": "2023-06-04T23:23:49.470482Z",
          "iopub.status.idle": "2023-06-04T23:58:29.757683Z",
          "shell.execute_reply": "2023-06-04T23:58:29.756692Z"
        },
        "papermill": {
          "duration": 2080.31512,
          "end_time": "2023-06-04T23:58:29.772638",
          "exception": false,
          "start_time": "2023-06-04T23:23:49.457518",
          "status": "completed"
        },
        "tags": [],
        "id": "0488adbc",
        "outputId": "3f9fc635-b4e3-45e8-dd84-e8d0289743a6"
      },
      "outputs": [
        {
          "name": "stdout",
          "output_type": "stream",
          "text": [
            "CPU times: user 34min 31s, sys: 3.54 s, total: 34min 34s\n",
            "Wall time: 34min 40s\n"
          ]
        },
        {
          "data": {
            "text/plain": [
              "'\\n\\nLang Chain is a popular AI framework that allows developers to create advanced chatbots and language models. It uses a technique called prompt templates, which allow users to combine user input with a base prompt to generate responses from the LLM. This technique can be used to create a Shakespeare-style writing app that combines user input with a base prompt to generate responses in the style of Shakespeare.\\n\\nUnder the model section, you may have noticed that there are a few steps happening here where we take the prompt template and provide the user input to it, and then specify the LLM before we make a call to the LLM for the response. There are many different types of chains available in Lang chain, and these chains are often named after the tasks they perform in our earlier example. We wanted to call an LLM the chain for that is LLM chain if we would like to perform math problems, the chain for that is called Math LLM chain and if we were to perform SQL operations, the chain for that is called SQL database chain and if we were to retrieve an answer, the chain for that is retrieval QA chain. These are some of the many available chains in the Langchain library.\\n\\nQuestion answering chains have a special place in the link chain library, so I would like to expand on this a little more. Let\\'s go back to our example where now we want our students to use chat GPT to answer questions or search from entire books. If they were to copy the text from these books and paste it into chat GPT, most likely they\\'ll get an error like this which says that it was too long for chat GPT to process and give an answer. Now, the way we can overcome this is using Lang chain in Lang chain, the typical Q&A process starts with first loading the document with something called document loaders which helps us extract the text from source documents and there are a number of document loaders available in Lang chain which support a variety of document formats. Once the text is available to us, we need to split that text using something called text splitters which takes the long pieces of text and converts it into small chunks. The next step is to take these chunks of text and convert it to numbers.\\n\\n\\n\\nLangchain is a new language-based programming platform that uses a unique approach to programming. It allows developers to create programs by writing code in natural language, rather than traditional programming languages like Java or Python. Langchain uses a combination of AI and machine learning to analyze the code and provide suggestions for improvements, making it easier for developers to write more efficient and effective code.\\n\\nLangchain also provides a powerful set of tools for querying data, including SQL queries, web searches, and even Internet of Things (IoT) devices. These tools allow developers to easily integrate their applications with external systems and services, providing a seamless experience for users.\\n\\nFinally, Langchain supports agents, which are virtual assistants that can interact with users and perform tasks on behalf of the developer. Agents can be used to provide customer support, automate repetitive tasks, and even perform complex calculations and analysis. With agents, developers can focus on creating innovative solutions while Langchain handles the heavy lifting of executing and managing the underlying infrastructure.\\n\\nIn conclusion, Langchain is a powerful and flexible library for building conversational AI applications. It provides a wide range of tools and features, including chains, agents, and memories, to help developers create intelligent and engaging chatbots. One of the key features of Langchain is its ability to communicate with users through a chat interface. If a user asks a question, the agent uses the retrieval QA chain to retrieve information from the database and provide a response. If the question is related to SQL operations, the agent uses the retrieval QA chain and the SQL chain to retrieve information from the database and provide a response.\\n\\nLangchain also supports multiple tools and libraries, such as internet search, shell, and Zapier, which allow developers to access a variety of resources and tools to build their applications. Additionally, chains can be used as tools, and custom functions and other agents can be used as tools as well.\\n\\nMemory is another important feature of Langchain, which allows developers to store and retrieve conversations for later use. There are several types of memories that can be configured to run with either agents or chains, and they help agents remember conversations in both short-term and long-term memory.\\n\\nFinally, Langchain provides output parsers that ensure responses from NLMs are in a specific format, which can be used downstream with other applications. If you\\'re interested in learning more about these features and how to use Langchain effectively, check out my upcoming course at BuildByU.com.\"'"
            ]
          },
          "execution_count": 17,
          "metadata": {},
          "output_type": "execute_result"
        }
      ],
      "source": [
        "%%time\n",
        "\n",
        "# Run the chain  with verbose=False\n",
        "summary = chain2.run(texts)\n",
        "summary"
      ]
    },
    {
      "cell_type": "code",
      "execution_count": null,
      "id": "4f04ad05",
      "metadata": {
        "execution": {
          "iopub.execute_input": "2023-06-04T23:58:29.798049Z",
          "iopub.status.busy": "2023-06-04T23:58:29.797748Z",
          "iopub.status.idle": "2023-06-04T23:58:29.803695Z",
          "shell.execute_reply": "2023-06-04T23:58:29.802767Z"
        },
        "papermill": {
          "duration": 0.021159,
          "end_time": "2023-06-04T23:58:29.805585",
          "exception": false,
          "start_time": "2023-06-04T23:58:29.784426",
          "status": "completed"
        },
        "tags": [],
        "id": "4f04ad05",
        "outputId": "73628ab5-f485-45de-f237-4ac0bdd683ee",
        "colab": {
          "base_uri": "https://localhost:8080/",
          "height": 85
        }
      },
      "outputs": [
        {
          "output_type": "display_data",
          "data": {
            "text/plain": [
              "\u001b[31m╭─\u001b[0m\u001b[31m──────────────────────────────\u001b[0m\u001b[31m \u001b[0m\u001b[1;31mTraceback \u001b[0m\u001b[1;2;31m(most recent call last)\u001b[0m\u001b[31m \u001b[0m\u001b[31m───────────────────────────────\u001b[0m\u001b[31m─╮\u001b[0m\n",
              "\u001b[31m│\u001b[0m in \u001b[92m<cell line: 1>\u001b[0m:\u001b[94m1\u001b[0m                                                                              \u001b[31m│\u001b[0m\n",
              "\u001b[31m╰──────────────────────────────────────────────────────────────────────────────────────────────────╯\u001b[0m\n",
              "\u001b[1;91mNameError: \u001b[0mname \u001b[32m'summary'\u001b[0m is not defined\n"
            ],
            "text/html": [
              "<pre style=\"white-space:pre;overflow-x:auto;line-height:normal;font-family:Menlo,'DejaVu Sans Mono',consolas,'Courier New',monospace\"><span style=\"color: #800000; text-decoration-color: #800000\">╭─────────────────────────────── </span><span style=\"color: #800000; text-decoration-color: #800000; font-weight: bold\">Traceback </span><span style=\"color: #bf7f7f; text-decoration-color: #bf7f7f; font-weight: bold\">(most recent call last)</span><span style=\"color: #800000; text-decoration-color: #800000\"> ────────────────────────────────╮</span>\n",
              "<span style=\"color: #800000; text-decoration-color: #800000\">│</span> in <span style=\"color: #00ff00; text-decoration-color: #00ff00\">&lt;cell line: 1&gt;</span>:<span style=\"color: #0000ff; text-decoration-color: #0000ff\">1</span>                                                                              <span style=\"color: #800000; text-decoration-color: #800000\">│</span>\n",
              "<span style=\"color: #800000; text-decoration-color: #800000\">╰──────────────────────────────────────────────────────────────────────────────────────────────────╯</span>\n",
              "<span style=\"color: #ff0000; text-decoration-color: #ff0000; font-weight: bold\">NameError: </span>name <span style=\"color: #008000; text-decoration-color: #008000\">'summary'</span> is not defined\n",
              "</pre>\n"
            ]
          },
          "metadata": {}
        }
      ],
      "source": [
        "len(summary)\n",
        "print(summary)"
      ]
    },
    {
      "cell_type": "code",
      "source": [],
      "metadata": {
        "id": "BTKVNwDIbckn"
      },
      "id": "BTKVNwDIbckn",
      "execution_count": null,
      "outputs": []
    }
  ],
  "metadata": {
    "kernelspec": {
      "display_name": "Python 3",
      "language": "python",
      "name": "python3"
    },
    "language_info": {
      "codemirror_mode": {
        "name": "ipython",
        "version": 3
      },
      "file_extension": ".py",
      "mimetype": "text/x-python",
      "name": "python",
      "nbconvert_exporter": "python",
      "pygments_lexer": "ipython3",
      "version": "3.10.10"
    },
    "papermill": {
      "default_parameters": {},
      "duration": 3173.538015,
      "end_time": "2023-06-04T23:58:33.011698",
      "environment_variables": {},
      "exception": null,
      "input_path": "__notebook__.ipynb",
      "output_path": "__notebook__.ipynb",
      "parameters": {},
      "start_time": "2023-06-04T23:05:39.473683",
      "version": "2.4.0"
    },
    "colab": {
      "provenance": []
    }
  },
  "nbformat": 4,
  "nbformat_minor": 5
}